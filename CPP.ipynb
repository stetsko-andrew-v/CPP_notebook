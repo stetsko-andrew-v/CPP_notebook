{
 "cells": [
  {
   "cell_type": "code",
   "execution_count": 4,
   "id": "70801010",
   "metadata": {},
   "outputs": [
    {
     "name": "stdout",
     "output_type": "stream",
     "text": [
      "Key1 loh"
     ]
    }
   ],
   "source": [
    "#include <iostream>\n",
    "std::cout << \"Key1 loh\";"
   ]
  },
  {
   "cell_type": "code",
   "execution_count": null,
   "id": "a6c111ef",
   "metadata": {},
   "outputs": [],
   "source": []
  }
 ],
 "metadata": {
  "kernelspec": {
   "display_name": "C++11",
   "language": "C++11",
   "name": "xcpp11"
  },
  "language_info": {
   "codemirror_mode": "text/x-c++src",
   "file_extension": ".cpp",
   "mimetype": "text/x-c++src",
   "name": "c++",
   "version": "11"
  }
 },
 "nbformat": 4,
 "nbformat_minor": 5
}
